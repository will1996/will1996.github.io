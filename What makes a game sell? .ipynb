{
 "cells": [
  {
   "cell_type": "markdown",
   "metadata": {},
   "source": [
    "# Looking for the makings of a hit indie game on Steam \n",
    "### by Will Chambers\n",
    "\n",
    "\n",
    "\n",
    "### INTRO: Why are you here? \n",
    " Now more than ever there are a lot of games on steam. With hundreds of thousands of titles already on the store, and hundreds more each week it's incredibly daunting to be in the business of trying to release a game on steam. Which, in a way, I am. I mean I have a real job too, but what I'd really like to do is release an indie hit. something like Slime Rancher, Stardew Valley, or Terraria, get a nose job, bicep implants, and retire to my mountain mansion. I don't have the magic formula for doing that as an indie, but I do have the data from 27,000 steam games to pour over and the will to use them!\n",
    "    \n",
    "Datascience has many powerful tools to gain insights from large ammounts of data. In this tutorial we'll see how to use those tools to decide where an Indie developer might best spend their effort to get a hit on their hands. This tutorial will show you how to use the tools of Datascience to make powerful insights in general, and how to apply those insights to steam data. \n",
    "    \n",
    " we'll start by searching the data for trends that might be useful, things like a genre that sells well, or a release window that has more sales. Anything that trends positively in ownership we'll examine. \n",
    "    \n",
    " Next, we'll determine which of those metrics seem promising, and then construct a useful model to select good game properties that a developer can control, which increase the chances that her game is successful. \n",
    "    \n",
    "  The outcome will be a handy demonstration of what data can teach us about the efforts of developers that came before, which will give all of the teams out there another metric with which they can select and fine-tune their next game launch. \n",
    "    \n",
    "    \n",
    "    "
   ]
  },
  {
   "cell_type": "markdown",
   "metadata": {},
   "source": [
    "## Background on the task: \n",
    "If you're not familiar with the indie market, here's a zero-to-hero overview. \n",
    "\n",
    "Indie games are games produced by small teams, sometimes single developers. These small teams generally have an even smaller budget. This lack of funding means two things, one there isn't a lot of spare cash to add things to the game willy-nilly, and two a failed launch is probably the end of the company, infact the median number of games released by an indie game company is one. \n",
    "\n",
    "These staggering odds make the problem of knowing ahead of time weather or not a game will do well, very important. It's essential in fact for an indie team to get this right, if they're going to then go on and make more games. \n",
    "\n",
    "The platform we're talking about is [Steam](https://store.steampowered.com), an online platform for the distribution of video games on the PC. Steam is of interest to indie developers because anyone can publish a game on steam for $100 via a service called Steam Direct. This ease of publishing allows developers who would normally have no way of getting a big name publisher, get their game onto steam, which is the most popular online gaming platform by far. The drawback is that many, many people do this, and so the competition is very steep. "
   ]
  },
  {
   "cell_type": "markdown",
   "metadata": {},
   "source": [
    "### Getting started: setup python"
   ]
  },
  {
   "cell_type": "code",
   "execution_count": 140,
   "metadata": {},
   "outputs": [],
   "source": [
    "import pandas\n",
    "import numpy\n",
    "import seaborn\n",
    "import sklearn\n",
    "import scipy\n",
    "#these libraries should get you started, make sure you have all of them installed!"
   ]
  },
  {
   "cell_type": "markdown",
   "metadata": {},
   "source": [
    "## Get your data\n",
    "Now, in general there are lots of ways to get data. For this tutorial I've taken the easy way out and downloaded \n",
    "the files straight from kaggle. I got them from the following link: \n",
    "https://www.kaggle.com/nikdavis/steam-store-games  \n",
    "\n",
    "If you download that folder from kaggle you'll get the following folder or similar:   \n",
    "\n",
    "    227895-490308-bundle-archive\n",
    "\n",
    "Which, is about as ugly as I am on the inside, so I renamed it to: \n",
    "\n",
    "    steamData\n",
    " \n",
    "and put it in my working directory (the same folder as your python file). \n",
    "\n",
    "\n",
    "Once you have your data locally, it's a simple matter to get it into pandas using csv_read:"
   ]
  },
  {
   "cell_type": "code",
   "execution_count": 141,
   "metadata": {},
   "outputs": [
    {
     "data": {
      "text/html": [
       "<div>\n",
       "<style scoped>\n",
       "    .dataframe tbody tr th:only-of-type {\n",
       "        vertical-align: middle;\n",
       "    }\n",
       "\n",
       "    .dataframe tbody tr th {\n",
       "        vertical-align: top;\n",
       "    }\n",
       "\n",
       "    .dataframe thead th {\n",
       "        text-align: right;\n",
       "    }\n",
       "</style>\n",
       "<table border=\"1\" class=\"dataframe\">\n",
       "  <thead>\n",
       "    <tr style=\"text-align: right;\">\n",
       "      <th></th>\n",
       "      <th>appid</th>\n",
       "      <th>name</th>\n",
       "      <th>release_date</th>\n",
       "      <th>english</th>\n",
       "      <th>developer</th>\n",
       "      <th>publisher</th>\n",
       "      <th>platforms</th>\n",
       "      <th>required_age</th>\n",
       "      <th>categories</th>\n",
       "      <th>genres</th>\n",
       "      <th>steamspy_tags</th>\n",
       "      <th>achievements</th>\n",
       "      <th>positive_ratings</th>\n",
       "      <th>negative_ratings</th>\n",
       "      <th>average_playtime</th>\n",
       "      <th>median_playtime</th>\n",
       "      <th>owners</th>\n",
       "      <th>price</th>\n",
       "    </tr>\n",
       "  </thead>\n",
       "  <tbody>\n",
       "    <tr>\n",
       "      <th>0</th>\n",
       "      <td>10</td>\n",
       "      <td>Counter-Strike</td>\n",
       "      <td>2000-11-01</td>\n",
       "      <td>1</td>\n",
       "      <td>Valve</td>\n",
       "      <td>Valve</td>\n",
       "      <td>windows;mac;linux</td>\n",
       "      <td>0</td>\n",
       "      <td>Multi-player;Online Multi-Player;Local Multi-P...</td>\n",
       "      <td>Action</td>\n",
       "      <td>Action;FPS;Multiplayer</td>\n",
       "      <td>0</td>\n",
       "      <td>124534</td>\n",
       "      <td>3339</td>\n",
       "      <td>17612</td>\n",
       "      <td>317</td>\n",
       "      <td>10000000-20000000</td>\n",
       "      <td>7.19</td>\n",
       "    </tr>\n",
       "    <tr>\n",
       "      <th>1</th>\n",
       "      <td>20</td>\n",
       "      <td>Team Fortress Classic</td>\n",
       "      <td>1999-04-01</td>\n",
       "      <td>1</td>\n",
       "      <td>Valve</td>\n",
       "      <td>Valve</td>\n",
       "      <td>windows;mac;linux</td>\n",
       "      <td>0</td>\n",
       "      <td>Multi-player;Online Multi-Player;Local Multi-P...</td>\n",
       "      <td>Action</td>\n",
       "      <td>Action;FPS;Multiplayer</td>\n",
       "      <td>0</td>\n",
       "      <td>3318</td>\n",
       "      <td>633</td>\n",
       "      <td>277</td>\n",
       "      <td>62</td>\n",
       "      <td>5000000-10000000</td>\n",
       "      <td>3.99</td>\n",
       "    </tr>\n",
       "    <tr>\n",
       "      <th>2</th>\n",
       "      <td>30</td>\n",
       "      <td>Day of Defeat</td>\n",
       "      <td>2003-05-01</td>\n",
       "      <td>1</td>\n",
       "      <td>Valve</td>\n",
       "      <td>Valve</td>\n",
       "      <td>windows;mac;linux</td>\n",
       "      <td>0</td>\n",
       "      <td>Multi-player;Valve Anti-Cheat enabled</td>\n",
       "      <td>Action</td>\n",
       "      <td>FPS;World War II;Multiplayer</td>\n",
       "      <td>0</td>\n",
       "      <td>3416</td>\n",
       "      <td>398</td>\n",
       "      <td>187</td>\n",
       "      <td>34</td>\n",
       "      <td>5000000-10000000</td>\n",
       "      <td>3.99</td>\n",
       "    </tr>\n",
       "    <tr>\n",
       "      <th>3</th>\n",
       "      <td>40</td>\n",
       "      <td>Deathmatch Classic</td>\n",
       "      <td>2001-06-01</td>\n",
       "      <td>1</td>\n",
       "      <td>Valve</td>\n",
       "      <td>Valve</td>\n",
       "      <td>windows;mac;linux</td>\n",
       "      <td>0</td>\n",
       "      <td>Multi-player;Online Multi-Player;Local Multi-P...</td>\n",
       "      <td>Action</td>\n",
       "      <td>Action;FPS;Multiplayer</td>\n",
       "      <td>0</td>\n",
       "      <td>1273</td>\n",
       "      <td>267</td>\n",
       "      <td>258</td>\n",
       "      <td>184</td>\n",
       "      <td>5000000-10000000</td>\n",
       "      <td>3.99</td>\n",
       "    </tr>\n",
       "    <tr>\n",
       "      <th>4</th>\n",
       "      <td>50</td>\n",
       "      <td>Half-Life: Opposing Force</td>\n",
       "      <td>1999-11-01</td>\n",
       "      <td>1</td>\n",
       "      <td>Gearbox Software</td>\n",
       "      <td>Valve</td>\n",
       "      <td>windows;mac;linux</td>\n",
       "      <td>0</td>\n",
       "      <td>Single-player;Multi-player;Valve Anti-Cheat en...</td>\n",
       "      <td>Action</td>\n",
       "      <td>FPS;Action;Sci-fi</td>\n",
       "      <td>0</td>\n",
       "      <td>5250</td>\n",
       "      <td>288</td>\n",
       "      <td>624</td>\n",
       "      <td>415</td>\n",
       "      <td>5000000-10000000</td>\n",
       "      <td>3.99</td>\n",
       "    </tr>\n",
       "    <tr>\n",
       "      <th>...</th>\n",
       "      <td>...</td>\n",
       "      <td>...</td>\n",
       "      <td>...</td>\n",
       "      <td>...</td>\n",
       "      <td>...</td>\n",
       "      <td>...</td>\n",
       "      <td>...</td>\n",
       "      <td>...</td>\n",
       "      <td>...</td>\n",
       "      <td>...</td>\n",
       "      <td>...</td>\n",
       "      <td>...</td>\n",
       "      <td>...</td>\n",
       "      <td>...</td>\n",
       "      <td>...</td>\n",
       "      <td>...</td>\n",
       "      <td>...</td>\n",
       "      <td>...</td>\n",
       "    </tr>\n",
       "    <tr>\n",
       "      <th>27070</th>\n",
       "      <td>1065230</td>\n",
       "      <td>Room of Pandora</td>\n",
       "      <td>2019-04-24</td>\n",
       "      <td>1</td>\n",
       "      <td>SHEN JIAWEI</td>\n",
       "      <td>SHEN JIAWEI</td>\n",
       "      <td>windows</td>\n",
       "      <td>0</td>\n",
       "      <td>Single-player;Steam Achievements</td>\n",
       "      <td>Adventure;Casual;Indie</td>\n",
       "      <td>Adventure;Indie;Casual</td>\n",
       "      <td>7</td>\n",
       "      <td>3</td>\n",
       "      <td>0</td>\n",
       "      <td>0</td>\n",
       "      <td>0</td>\n",
       "      <td>0-20000</td>\n",
       "      <td>2.09</td>\n",
       "    </tr>\n",
       "    <tr>\n",
       "      <th>27071</th>\n",
       "      <td>1065570</td>\n",
       "      <td>Cyber Gun</td>\n",
       "      <td>2019-04-23</td>\n",
       "      <td>1</td>\n",
       "      <td>Semyon Maximov</td>\n",
       "      <td>BekkerDev Studio</td>\n",
       "      <td>windows</td>\n",
       "      <td>0</td>\n",
       "      <td>Single-player</td>\n",
       "      <td>Action;Adventure;Indie</td>\n",
       "      <td>Action;Indie;Adventure</td>\n",
       "      <td>0</td>\n",
       "      <td>8</td>\n",
       "      <td>1</td>\n",
       "      <td>0</td>\n",
       "      <td>0</td>\n",
       "      <td>0-20000</td>\n",
       "      <td>1.69</td>\n",
       "    </tr>\n",
       "    <tr>\n",
       "      <th>27072</th>\n",
       "      <td>1065650</td>\n",
       "      <td>Super Star Blast</td>\n",
       "      <td>2019-04-24</td>\n",
       "      <td>1</td>\n",
       "      <td>EntwicklerX</td>\n",
       "      <td>EntwicklerX</td>\n",
       "      <td>windows</td>\n",
       "      <td>0</td>\n",
       "      <td>Single-player;Multi-player;Co-op;Shared/Split ...</td>\n",
       "      <td>Action;Casual;Indie</td>\n",
       "      <td>Action;Indie;Casual</td>\n",
       "      <td>24</td>\n",
       "      <td>0</td>\n",
       "      <td>1</td>\n",
       "      <td>0</td>\n",
       "      <td>0</td>\n",
       "      <td>0-20000</td>\n",
       "      <td>3.99</td>\n",
       "    </tr>\n",
       "    <tr>\n",
       "      <th>27073</th>\n",
       "      <td>1066700</td>\n",
       "      <td>New Yankee 7: Deer Hunters</td>\n",
       "      <td>2019-04-17</td>\n",
       "      <td>1</td>\n",
       "      <td>Yustas Game Studio</td>\n",
       "      <td>Alawar Entertainment</td>\n",
       "      <td>windows;mac</td>\n",
       "      <td>0</td>\n",
       "      <td>Single-player;Steam Cloud</td>\n",
       "      <td>Adventure;Casual;Indie</td>\n",
       "      <td>Indie;Casual;Adventure</td>\n",
       "      <td>0</td>\n",
       "      <td>2</td>\n",
       "      <td>0</td>\n",
       "      <td>0</td>\n",
       "      <td>0</td>\n",
       "      <td>0-20000</td>\n",
       "      <td>5.19</td>\n",
       "    </tr>\n",
       "    <tr>\n",
       "      <th>27074</th>\n",
       "      <td>1069460</td>\n",
       "      <td>Rune Lord</td>\n",
       "      <td>2019-04-24</td>\n",
       "      <td>1</td>\n",
       "      <td>Adept Studios GD</td>\n",
       "      <td>Alawar Entertainment</td>\n",
       "      <td>windows;mac</td>\n",
       "      <td>0</td>\n",
       "      <td>Single-player;Steam Cloud</td>\n",
       "      <td>Adventure;Casual;Indie</td>\n",
       "      <td>Indie;Casual;Adventure</td>\n",
       "      <td>0</td>\n",
       "      <td>4</td>\n",
       "      <td>0</td>\n",
       "      <td>0</td>\n",
       "      <td>0</td>\n",
       "      <td>0-20000</td>\n",
       "      <td>5.19</td>\n",
       "    </tr>\n",
       "  </tbody>\n",
       "</table>\n",
       "<p>27075 rows × 18 columns</p>\n",
       "</div>"
      ],
      "text/plain": [
       "         appid                        name release_date  english  \\\n",
       "0           10              Counter-Strike   2000-11-01        1   \n",
       "1           20       Team Fortress Classic   1999-04-01        1   \n",
       "2           30               Day of Defeat   2003-05-01        1   \n",
       "3           40          Deathmatch Classic   2001-06-01        1   \n",
       "4           50   Half-Life: Opposing Force   1999-11-01        1   \n",
       "...        ...                         ...          ...      ...   \n",
       "27070  1065230             Room of Pandora   2019-04-24        1   \n",
       "27071  1065570                   Cyber Gun   2019-04-23        1   \n",
       "27072  1065650            Super Star Blast   2019-04-24        1   \n",
       "27073  1066700  New Yankee 7: Deer Hunters   2019-04-17        1   \n",
       "27074  1069460                   Rune Lord   2019-04-24        1   \n",
       "\n",
       "                developer             publisher          platforms  \\\n",
       "0                   Valve                 Valve  windows;mac;linux   \n",
       "1                   Valve                 Valve  windows;mac;linux   \n",
       "2                   Valve                 Valve  windows;mac;linux   \n",
       "3                   Valve                 Valve  windows;mac;linux   \n",
       "4        Gearbox Software                 Valve  windows;mac;linux   \n",
       "...                   ...                   ...                ...   \n",
       "27070         SHEN JIAWEI           SHEN JIAWEI            windows   \n",
       "27071      Semyon Maximov      BekkerDev Studio            windows   \n",
       "27072         EntwicklerX           EntwicklerX            windows   \n",
       "27073  Yustas Game Studio  Alawar Entertainment        windows;mac   \n",
       "27074    Adept Studios GD  Alawar Entertainment        windows;mac   \n",
       "\n",
       "       required_age                                         categories  \\\n",
       "0                 0  Multi-player;Online Multi-Player;Local Multi-P...   \n",
       "1                 0  Multi-player;Online Multi-Player;Local Multi-P...   \n",
       "2                 0              Multi-player;Valve Anti-Cheat enabled   \n",
       "3                 0  Multi-player;Online Multi-Player;Local Multi-P...   \n",
       "4                 0  Single-player;Multi-player;Valve Anti-Cheat en...   \n",
       "...             ...                                                ...   \n",
       "27070             0                   Single-player;Steam Achievements   \n",
       "27071             0                                      Single-player   \n",
       "27072             0  Single-player;Multi-player;Co-op;Shared/Split ...   \n",
       "27073             0                          Single-player;Steam Cloud   \n",
       "27074             0                          Single-player;Steam Cloud   \n",
       "\n",
       "                       genres                 steamspy_tags  achievements  \\\n",
       "0                      Action        Action;FPS;Multiplayer             0   \n",
       "1                      Action        Action;FPS;Multiplayer             0   \n",
       "2                      Action  FPS;World War II;Multiplayer             0   \n",
       "3                      Action        Action;FPS;Multiplayer             0   \n",
       "4                      Action             FPS;Action;Sci-fi             0   \n",
       "...                       ...                           ...           ...   \n",
       "27070  Adventure;Casual;Indie        Adventure;Indie;Casual             7   \n",
       "27071  Action;Adventure;Indie        Action;Indie;Adventure             0   \n",
       "27072     Action;Casual;Indie           Action;Indie;Casual            24   \n",
       "27073  Adventure;Casual;Indie        Indie;Casual;Adventure             0   \n",
       "27074  Adventure;Casual;Indie        Indie;Casual;Adventure             0   \n",
       "\n",
       "       positive_ratings  negative_ratings  average_playtime  median_playtime  \\\n",
       "0                124534              3339             17612              317   \n",
       "1                  3318               633               277               62   \n",
       "2                  3416               398               187               34   \n",
       "3                  1273               267               258              184   \n",
       "4                  5250               288               624              415   \n",
       "...                 ...               ...               ...              ...   \n",
       "27070                 3                 0                 0                0   \n",
       "27071                 8                 1                 0                0   \n",
       "27072                 0                 1                 0                0   \n",
       "27073                 2                 0                 0                0   \n",
       "27074                 4                 0                 0                0   \n",
       "\n",
       "                  owners  price  \n",
       "0      10000000-20000000   7.19  \n",
       "1       5000000-10000000   3.99  \n",
       "2       5000000-10000000   3.99  \n",
       "3       5000000-10000000   3.99  \n",
       "4       5000000-10000000   3.99  \n",
       "...                  ...    ...  \n",
       "27070            0-20000   2.09  \n",
       "27071            0-20000   1.69  \n",
       "27072            0-20000   3.99  \n",
       "27073            0-20000   5.19  \n",
       "27074            0-20000   5.19  \n",
       "\n",
       "[27075 rows x 18 columns]"
      ]
     },
     "execution_count": 141,
     "metadata": {},
     "output_type": "execute_result"
    }
   ],
   "source": [
    "master_data = pandas.read_csv('steamData/steam.csv')\n",
    "master_data"
   ]
  },
  {
   "cell_type": "markdown",
   "metadata": {},
   "source": [
    "# Note: \n",
    "We're going to use pandas a lot during this tutorial, if you see something you don't understand, make sure to check out their documentation: https://pandas.pydata.org/docs/  \n",
    "I'll call out specific sections of relevance as we go on. "
   ]
  },
  {
   "cell_type": "markdown",
   "metadata": {},
   "source": [
    "### TIDYING DATA\n",
    "The first step is to narrow our search to something more managable. First, let's contstrain our search for trends to only indie games. Thankfully, steam puts this in the genre tag, so we can filter for it like so:"
   ]
  },
  {
   "cell_type": "code",
   "execution_count": 142,
   "metadata": {},
   "outputs": [],
   "source": [
    "#get all of the games that have Indie in their genre\n",
    "indie_data = master_data [ master_data['genres'].str.contains('Indie')] "
   ]
  },
  {
   "cell_type": "markdown",
   "metadata": {},
   "source": [
    "### Pandas in ten seconds or less: \n",
    "    Pandas is an extremely powerful data manipulation tool, with a lot of depth, but here are the basics: \n",
    "    Pandas stores data in DataFrames which are 2D arrays that can be indexed by any type, read more at the link below. \n",
    "    Dataframes hold Series, which are 1D arrays indexed by any type. read more at the link below! \n",
    "   [Dataframe Documentation](https://pandas.pydata.org/docs/reference/api/pandas.DataFrame.html?highlight=dataframe#pandas.DataFrame)\n",
    "   [Series Documentation](https://pandas.pydata.org/docs/reference/api/pandas.Series.html?highlight=series#pandas.Series)"
   ]
  },
  {
   "cell_type": "markdown",
   "metadata": {},
   "source": [
    "\n",
    "Next, there are some entries in this data set that simply aren't of interest to us. For instance, I don't think the \n",
    "appID is going to be of use to us. \n",
    "Thankfully it's not hard to remove columns:"
   ]
  },
  {
   "cell_type": "code",
   "execution_count": 143,
   "metadata": {},
   "outputs": [],
   "source": [
    "del indie_data['appid']"
   ]
  },
  {
   "cell_type": "markdown",
   "metadata": {},
   "source": [
    "I'm also going to drop a few other columns, they might be useful for some other analysies, but for my purposes they just get in the way!"
   ]
  },
  {
   "cell_type": "code",
   "execution_count": 144,
   "metadata": {},
   "outputs": [],
   "source": [
    "del indie_data['english']#drop the english column, all popular games have the value 1\n",
    "del indie_data['developer']#we already know that these are indie games, that's all the publisher information we need\n",
    "del indie_data['genres']#redunant information, also in steamspy tags\n",
    "del indie_data['required_age']# everyone lies about their age on steam anyway\n",
    "del indie_data['release_date']#this one could be really interesting, but we're not focused on it right now\n",
    "del indie_data['platforms']#again, potentially good to know, not interested right now\n",
    "\n",
    "#it looks like one movie also made its way into the data, this wouldn't have been an issue if it hadn't sold\n",
    "#EXTREEMELY well, and thrown off all of our analysis down the line\n",
    "indie_data = indie_data.drop( indie_data[ indie_data['steamspy_tags'].str.contains('Movie')].index)"
   ]
  },
  {
   "cell_type": "markdown",
   "metadata": {},
   "source": [
    "Since we're trying to figure out how well games sell, we need a way to measure that. Unfortunately, steam reports these numbers oddly, as an ownership range. For instance, the lowest range is 0-20000 owners. To make things more numerical, I've chosen to take the mean of each of these ranges, and use that as our ownership measure. Since we can't know precisely where in a category a game fell, the middle of the range serves as a resonable estimate. \n",
    "\n",
    "We can do this in pandas like so: "
   ]
  },
  {
   "cell_type": "code",
   "execution_count": 145,
   "metadata": {},
   "outputs": [],
   "source": [
    "#ownership is reported as a string range, let's find the middle of each of those ranges, and put the result \n",
    "#in a new column in indie_data called 'mean_owners'\n",
    "mean_owners = [(int(y)-int(x))/2+int(x) for x,y in indie_data['owners'].str.split('-')]\n",
    "indie_data = indie_data.assign(mean_owners = mean_owners)"
   ]
  },
  {
   "cell_type": "markdown",
   "metadata": {},
   "source": [
    "This change will let us sort by number of owners, for instance. \n",
    "\n",
    "Additionally, it would be nice to know how good games are, certainly there's a relationship between how good a game is and how well it's recieved. \n",
    "\n",
    "Ratings in steam are the only real information available on that front, but they are reported as two quantities\n",
    "'positive_ratings' and 'negative_ratings' let's convert that into the ratio of good ratings like so:  "
   ]
  },
  {
   "cell_type": "code",
   "execution_count": 146,
   "metadata": {},
   "outputs": [],
   "source": [
    "indie_data = indie_data.assign(total_ratings = indie_data['negative_ratings']+indie_data['positive_ratings'])\n",
    "indie_data = indie_data.assign(positive_rating_ratio = indie_data['positive_ratings']/indie_data['total_ratings'])"
   ]
  },
  {
   "cell_type": "markdown",
   "metadata": {},
   "source": [
    "Okay cool! Those are good numbers to have, let's see what we can do with them. \n",
    "\n",
    "The first thing we might want to do, is look at the most popular games on steam:"
   ]
  },
  {
   "cell_type": "code",
   "execution_count": 147,
   "metadata": {},
   "outputs": [
    {
     "data": {
      "text/html": [
       "<div>\n",
       "<style scoped>\n",
       "    .dataframe tbody tr th:only-of-type {\n",
       "        vertical-align: middle;\n",
       "    }\n",
       "\n",
       "    .dataframe tbody tr th {\n",
       "        vertical-align: top;\n",
       "    }\n",
       "\n",
       "    .dataframe thead th {\n",
       "        text-align: right;\n",
       "    }\n",
       "</style>\n",
       "<table border=\"1\" class=\"dataframe\">\n",
       "  <thead>\n",
       "    <tr style=\"text-align: right;\">\n",
       "      <th></th>\n",
       "      <th>name</th>\n",
       "      <th>publisher</th>\n",
       "      <th>categories</th>\n",
       "      <th>steamspy_tags</th>\n",
       "      <th>achievements</th>\n",
       "      <th>positive_ratings</th>\n",
       "      <th>negative_ratings</th>\n",
       "      <th>average_playtime</th>\n",
       "      <th>median_playtime</th>\n",
       "      <th>owners</th>\n",
       "      <th>price</th>\n",
       "      <th>mean_owners</th>\n",
       "      <th>total_ratings</th>\n",
       "      <th>positive_rating_ratio</th>\n",
       "    </tr>\n",
       "  </thead>\n",
       "  <tbody>\n",
       "    <tr>\n",
       "      <th>3362</th>\n",
       "      <td>Unturned</td>\n",
       "      <td>Smartly Dressed Games</td>\n",
       "      <td>Single-player;Online Multi-Player;Online Co-op...</td>\n",
       "      <td>Free to Play;Survival;Zombies</td>\n",
       "      <td>46</td>\n",
       "      <td>292574</td>\n",
       "      <td>31482</td>\n",
       "      <td>3248</td>\n",
       "      <td>413</td>\n",
       "      <td>20000000-50000000</td>\n",
       "      <td>0.00</td>\n",
       "      <td>35000000.0</td>\n",
       "      <td>324056</td>\n",
       "      <td>0.902850</td>\n",
       "    </tr>\n",
       "    <tr>\n",
       "      <th>1607</th>\n",
       "      <td>Heroes &amp; Generals</td>\n",
       "      <td>RETO MOTO</td>\n",
       "      <td>Multi-player;Online Multi-Player;MMO;Online Co...</td>\n",
       "      <td>Free to Play;World War II;Multiplayer</td>\n",
       "      <td>0</td>\n",
       "      <td>65856</td>\n",
       "      <td>34416</td>\n",
       "      <td>1752</td>\n",
       "      <td>76</td>\n",
       "      <td>10000000-20000000</td>\n",
       "      <td>0.00</td>\n",
       "      <td>15000000.0</td>\n",
       "      <td>100272</td>\n",
       "      <td>0.656774</td>\n",
       "    </tr>\n",
       "    <tr>\n",
       "      <th>3251</th>\n",
       "      <td>Robocraft</td>\n",
       "      <td>Freejam</td>\n",
       "      <td>Multi-player;Online Multi-Player;MMO;Online Co...</td>\n",
       "      <td>Free to Play;Robots;Building</td>\n",
       "      <td>43</td>\n",
       "      <td>80360</td>\n",
       "      <td>30987</td>\n",
       "      <td>1369</td>\n",
       "      <td>211</td>\n",
       "      <td>10000000-20000000</td>\n",
       "      <td>0.00</td>\n",
       "      <td>15000000.0</td>\n",
       "      <td>111347</td>\n",
       "      <td>0.721708</td>\n",
       "    </tr>\n",
       "    <tr>\n",
       "      <th>1772</th>\n",
       "      <td>Path of Exile</td>\n",
       "      <td>Grinding Gear Games</td>\n",
       "      <td>Single-player;Multi-player;Online Multi-Player...</td>\n",
       "      <td>Free to Play;Action RPG;Hack and Slash</td>\n",
       "      <td>120</td>\n",
       "      <td>71593</td>\n",
       "      <td>6117</td>\n",
       "      <td>5263</td>\n",
       "      <td>492</td>\n",
       "      <td>10000000-20000000</td>\n",
       "      <td>0.00</td>\n",
       "      <td>15000000.0</td>\n",
       "      <td>77710</td>\n",
       "      <td>0.921284</td>\n",
       "    </tr>\n",
       "    <tr>\n",
       "      <th>2952</th>\n",
       "      <td>Brawlhalla</td>\n",
       "      <td>Ubisoft</td>\n",
       "      <td>Single-player;Multi-player;Online Multi-Player...</td>\n",
       "      <td>Free to Play;Multiplayer;Fighting</td>\n",
       "      <td>39</td>\n",
       "      <td>73268</td>\n",
       "      <td>14489</td>\n",
       "      <td>724</td>\n",
       "      <td>146</td>\n",
       "      <td>10000000-20000000</td>\n",
       "      <td>0.00</td>\n",
       "      <td>15000000.0</td>\n",
       "      <td>87757</td>\n",
       "      <td>0.834896</td>\n",
       "    </tr>\n",
       "    <tr>\n",
       "      <th>...</th>\n",
       "      <td>...</td>\n",
       "      <td>...</td>\n",
       "      <td>...</td>\n",
       "      <td>...</td>\n",
       "      <td>...</td>\n",
       "      <td>...</td>\n",
       "      <td>...</td>\n",
       "      <td>...</td>\n",
       "      <td>...</td>\n",
       "      <td>...</td>\n",
       "      <td>...</td>\n",
       "      <td>...</td>\n",
       "      <td>...</td>\n",
       "      <td>...</td>\n",
       "    </tr>\n",
       "    <tr>\n",
       "      <th>14621</th>\n",
       "      <td>Demon Mark: A Russian Saga</td>\n",
       "      <td>Choice of Games</td>\n",
       "      <td>Single-player;Steam Achievements;Captions avai...</td>\n",
       "      <td>Adventure;Indie;RPG</td>\n",
       "      <td>53</td>\n",
       "      <td>3</td>\n",
       "      <td>3</td>\n",
       "      <td>0</td>\n",
       "      <td>0</td>\n",
       "      <td>0-20000</td>\n",
       "      <td>4.79</td>\n",
       "      <td>10000.0</td>\n",
       "      <td>6</td>\n",
       "      <td>0.500000</td>\n",
       "    </tr>\n",
       "    <tr>\n",
       "      <th>14622</th>\n",
       "      <td>Sentience: The Android's Tale</td>\n",
       "      <td>GrabTheGames</td>\n",
       "      <td>Single-player;Steam Achievements;Steam Trading...</td>\n",
       "      <td>Adventure;Indie;Multiple Endings</td>\n",
       "      <td>36</td>\n",
       "      <td>53</td>\n",
       "      <td>0</td>\n",
       "      <td>0</td>\n",
       "      <td>0</td>\n",
       "      <td>0-20000</td>\n",
       "      <td>2.79</td>\n",
       "      <td>10000.0</td>\n",
       "      <td>53</td>\n",
       "      <td>1.000000</td>\n",
       "    </tr>\n",
       "    <tr>\n",
       "      <th>3871</th>\n",
       "      <td>Dungeon Lurk II - Leona</td>\n",
       "      <td>Keys of Nine Entertainment</td>\n",
       "      <td>Single-player;Partial Controller Support</td>\n",
       "      <td>Adventure;Indie;Casual</td>\n",
       "      <td>0</td>\n",
       "      <td>10</td>\n",
       "      <td>26</td>\n",
       "      <td>0</td>\n",
       "      <td>0</td>\n",
       "      <td>0-20000</td>\n",
       "      <td>6.99</td>\n",
       "      <td>10000.0</td>\n",
       "      <td>36</td>\n",
       "      <td>0.277778</td>\n",
       "    </tr>\n",
       "    <tr>\n",
       "      <th>14624</th>\n",
       "      <td>Tunnels of Despair</td>\n",
       "      <td>BearFighterDev</td>\n",
       "      <td>Single-player;Steam Achievements;Steam Trading...</td>\n",
       "      <td>Indie;Action;Adventure</td>\n",
       "      <td>11</td>\n",
       "      <td>26</td>\n",
       "      <td>12</td>\n",
       "      <td>0</td>\n",
       "      <td>0</td>\n",
       "      <td>0-20000</td>\n",
       "      <td>2.09</td>\n",
       "      <td>10000.0</td>\n",
       "      <td>38</td>\n",
       "      <td>0.684211</td>\n",
       "    </tr>\n",
       "    <tr>\n",
       "      <th>27074</th>\n",
       "      <td>Rune Lord</td>\n",
       "      <td>Alawar Entertainment</td>\n",
       "      <td>Single-player;Steam Cloud</td>\n",
       "      <td>Indie;Casual;Adventure</td>\n",
       "      <td>0</td>\n",
       "      <td>4</td>\n",
       "      <td>0</td>\n",
       "      <td>0</td>\n",
       "      <td>0</td>\n",
       "      <td>0-20000</td>\n",
       "      <td>5.19</td>\n",
       "      <td>10000.0</td>\n",
       "      <td>4</td>\n",
       "      <td>1.000000</td>\n",
       "    </tr>\n",
       "  </tbody>\n",
       "</table>\n",
       "<p>19420 rows × 14 columns</p>\n",
       "</div>"
      ],
      "text/plain": [
       "                                name                   publisher  \\\n",
       "3362                        Unturned       Smartly Dressed Games   \n",
       "1607               Heroes & Generals                   RETO MOTO   \n",
       "3251                       Robocraft                     Freejam   \n",
       "1772                   Path of Exile         Grinding Gear Games   \n",
       "2952                      Brawlhalla                     Ubisoft   \n",
       "...                              ...                         ...   \n",
       "14621     Demon Mark: A Russian Saga             Choice of Games   \n",
       "14622  Sentience: The Android's Tale                GrabTheGames   \n",
       "3871         Dungeon Lurk II - Leona  Keys of Nine Entertainment   \n",
       "14624             Tunnels of Despair              BearFighterDev   \n",
       "27074                      Rune Lord        Alawar Entertainment   \n",
       "\n",
       "                                              categories  \\\n",
       "3362   Single-player;Online Multi-Player;Online Co-op...   \n",
       "1607   Multi-player;Online Multi-Player;MMO;Online Co...   \n",
       "3251   Multi-player;Online Multi-Player;MMO;Online Co...   \n",
       "1772   Single-player;Multi-player;Online Multi-Player...   \n",
       "2952   Single-player;Multi-player;Online Multi-Player...   \n",
       "...                                                  ...   \n",
       "14621  Single-player;Steam Achievements;Captions avai...   \n",
       "14622  Single-player;Steam Achievements;Steam Trading...   \n",
       "3871            Single-player;Partial Controller Support   \n",
       "14624  Single-player;Steam Achievements;Steam Trading...   \n",
       "27074                          Single-player;Steam Cloud   \n",
       "\n",
       "                                steamspy_tags  achievements  positive_ratings  \\\n",
       "3362            Free to Play;Survival;Zombies            46            292574   \n",
       "1607    Free to Play;World War II;Multiplayer             0             65856   \n",
       "3251             Free to Play;Robots;Building            43             80360   \n",
       "1772   Free to Play;Action RPG;Hack and Slash           120             71593   \n",
       "2952        Free to Play;Multiplayer;Fighting            39             73268   \n",
       "...                                       ...           ...               ...   \n",
       "14621                     Adventure;Indie;RPG            53                 3   \n",
       "14622        Adventure;Indie;Multiple Endings            36                53   \n",
       "3871                   Adventure;Indie;Casual             0                10   \n",
       "14624                  Indie;Action;Adventure            11                26   \n",
       "27074                  Indie;Casual;Adventure             0                 4   \n",
       "\n",
       "       negative_ratings  average_playtime  median_playtime             owners  \\\n",
       "3362              31482              3248              413  20000000-50000000   \n",
       "1607              34416              1752               76  10000000-20000000   \n",
       "3251              30987              1369              211  10000000-20000000   \n",
       "1772               6117              5263              492  10000000-20000000   \n",
       "2952              14489               724              146  10000000-20000000   \n",
       "...                 ...               ...              ...                ...   \n",
       "14621                 3                 0                0            0-20000   \n",
       "14622                 0                 0                0            0-20000   \n",
       "3871                 26                 0                0            0-20000   \n",
       "14624                12                 0                0            0-20000   \n",
       "27074                 0                 0                0            0-20000   \n",
       "\n",
       "       price  mean_owners  total_ratings  positive_rating_ratio  \n",
       "3362    0.00   35000000.0         324056               0.902850  \n",
       "1607    0.00   15000000.0         100272               0.656774  \n",
       "3251    0.00   15000000.0         111347               0.721708  \n",
       "1772    0.00   15000000.0          77710               0.921284  \n",
       "2952    0.00   15000000.0          87757               0.834896  \n",
       "...      ...          ...            ...                    ...  \n",
       "14621   4.79      10000.0              6               0.500000  \n",
       "14622   2.79      10000.0             53               1.000000  \n",
       "3871    6.99      10000.0             36               0.277778  \n",
       "14624   2.09      10000.0             38               0.684211  \n",
       "27074   5.19      10000.0              4               1.000000  \n",
       "\n",
       "[19420 rows x 14 columns]"
      ]
     },
     "execution_count": 147,
     "metadata": {},
     "output_type": "execute_result"
    }
   ],
   "source": [
    "indie_data.sort_values('mean_owners',ascending=False)"
   ]
  },
  {
   "cell_type": "markdown",
   "metadata": {},
   "source": [
    "Okay! now we can look at games based on how popular they are. That's a start, what else? \n",
    "\n",
    "Well, a big chart like this is nice, but it's impossible to see how the quantities in the table might be related to eachother. To do that we'll want some plots. \n",
    "\n",
    "Let's make a plot of the two things we computed above: "
   ]
  },
  {
   "cell_type": "code",
   "execution_count": 148,
   "metadata": {},
   "outputs": [
    {
     "data": {
      "text/plain": [
       "<matplotlib.axes._subplots.AxesSubplot at 0x7f6f652e5e50>"
      ]
     },
     "execution_count": 148,
     "metadata": {},
     "output_type": "execute_result"
    },
    {
     "data": {
      "image/png": "[encoded data removed]",
      "text/plain": [
       "<Figure size 432x288 with 1 Axes>"
      ]
     },
     "metadata": {
      "needs_background": "light"
     },
     "output_type": "display_data"
    }
   ],
   "source": [
    "seaborn.scatterplot(indie_data['positive_rating_ratio'],indie_data['mean_owners'])"
   ]
  },
  {
   "cell_type": "markdown",
   "metadata": {},
   "source": [
    "Looking at the data here, there's clearly a positive trend with high-review ratio to number of owners! \n",
    "That's good news for us, that's a result. \n",
    "\n",
    "Of course, this is a pretty obvious one. If people see good reviews on a game, they're going to be more likely to hit buy. Let's do some more digging, see if we can find anything else.\n",
    "\n",
    "Maybe average play-time is a good predictor? "
   ]
  },
  {
   "cell_type": "code",
   "execution_count": 149,
   "metadata": {},
   "outputs": [
    {
     "data": {
      "text/plain": [
       "<matplotlib.axes._subplots.AxesSubplot at 0x7f6f652e1760>"
      ]
     },
     "execution_count": 149,
     "metadata": {},
     "output_type": "execute_result"
    },
    {
     "data": {
      "image/png": "[encoded data removed]",
      "text/plain": [
       "<Figure size 432x288 with 1 Axes>"
      ]
     },
     "metadata": {
      "needs_background": "light"
     },
     "output_type": "display_data"
    }
   ],
   "source": [
    "seaborn.scatterplot(indie_data['average_playtime'],indie_data['mean_owners'])"
   ]
  },
  {
   "cell_type": "markdown",
   "metadata": {},
   "source": [
    "Average playtime above looks as though it would have a negative linear relationship to sales, which doesn't seem right at all. It seems like the average playtimes are just really low over all, so most games don't have anywhere near the maximum. We'll steer clear of this. "
   ]
  },
  {
   "cell_type": "code",
   "execution_count": 150,
   "metadata": {},
   "outputs": [
    {
     "data": {
      "text/plain": [
       "<matplotlib.axes._subplots.AxesSubplot at 0x7f6f8809a9a0>"
      ]
     },
     "execution_count": 150,
     "metadata": {},
     "output_type": "execute_result"
    },
    {
     "data": {
      "image/png": "[encoded data removed]",
      "text/plain": [
       "<Figure size 432x288 with 1 Axes>"
      ]
     },
     "metadata": {
      "needs_background": "light"
     },
     "output_type": "display_data"
    }
   ],
   "source": [
    "seaborn.scatterplot(indie_data['price'],indie_data['mean_owners'])"
   ]
  },
  {
   "cell_type": "markdown",
   "metadata": {},
   "source": [
    "Again, here's a result we can work with. \n",
    "\n",
    "No one buys 160 dollar games, first of all. \n",
    "\n",
    "the most almos all games fall within the 0-40 dollar range, with the hot spot looking like around 15-20 dollars. \n",
    "\n",
    "That makes sense for us Indies, unless you're Arc, you can't charge 60 dollars for your game.\n",
    "\n",
    "(if you're unfamiliar with Arc: [Look here](https://ark.gamepedia.com/ARK_Survival_Evolved_Wiki) ) it's a large indie game, it released for a staggering 60 dollars. Most indie games are in the 15-20 dollar range, which is supported by our plot above. \n",
    "\n",
    "\n",
    "So we've explored our data, and we know that at least generally, there are trends here, but let's \n",
    "get formal about that before we go too far. "
   ]
  },
  {
   "cell_type": "markdown",
   "metadata": {},
   "source": [
    "### HYPOTHESIS TESTING\n",
    "Lets fit regressions to the price and ratings graph, to quantatatively determine the relationships that we eyeballed above. \n",
    "\n",
    "This is one application for hypothesis testing. \n",
    "\n",
    "I'll explain more later, but for now let's just say that our hypothesis is that there is a linear relationship between positive_rating_ratio, and mean_owners. As well as between price and mean_owners"
   ]
  },
  {
   "cell_type": "code",
   "execution_count": 151,
   "metadata": {},
   "outputs": [
    {
     "data": {
      "text/plain": [
       "LinregressResult(slope=99152.03982418025, intercept=3524.1313072344055, rvalue=0.049866130184749516, pvalue=3.575841583430046e-12, stderr=14251.254665304314)"
      ]
     },
     "execution_count": 151,
     "metadata": {},
     "output_type": "execute_result"
    }
   ],
   "source": [
    "from scipy import stats\n",
    "import numpy as np\n",
    "# fit a linear regression to the data\n",
    "stats.linregress(indie_data['positive_rating_ratio'],indie_data['mean_owners'])"
   ]
  },
  {
   "cell_type": "code",
   "execution_count": 152,
   "metadata": {},
   "outputs": [
    {
     "data": {
      "text/plain": [
       "LinregressResult(slope=4263.038749392793, intercept=53529.80630143328, rvalue=0.04814415859823838, pvalue=1.9115848468685684e-11, stderr=634.7015072861445)"
      ]
     },
     "execution_count": 152,
     "metadata": {},
     "output_type": "execute_result"
    }
   ],
   "source": [
    "stats.linregress(indie_data['price'],indie_data['mean_owners'])"
   ]
  },
  {
   "cell_type": "markdown",
   "metadata": {},
   "source": [
    "Our Hypothesis as stated above is that there is some kind of linear trend between our fields of interest. \n",
    "\n",
    "It would be nice if we could directly confirm that, however, statistics is a lot better at rejecting things. \n",
    "\n",
    "There's a lot to unpack in this subject, so I would point the interested reader [here](https://www.statisticshowto.com/probability-and-statistics/hypothesis-testing/)\n",
    "\n",
    "The punchline is that a small p-value for a particular hypothesis is good, in our case they are tiny, (effectively zero) so we can safely reject the null-hypothesis of no-correlation! \n",
    "\n",
    "we now know what our eyes were telling us,  that there are trends in price vs sales, and ratings vs sales. \n",
    "\n",
    "\n",
    "Knowing that we have correlations here doesn't give us anything actionable. \n",
    "After all, the goal of this whole project is to find insights in the data that give us a policy with which we can \n",
    "better target game markets on steam! It's good that high-reviewed games sell well, but we can't directly control good reviews. \n",
    " \n",
    "\n",
    "We want to find some parameters that the developer can control directly, which give us the best chance at success. \n",
    "\n",
    "Our first metric, positivity rating ratio also had a strong trend in sales prices. It's true that we can't control ratings directly, but it's possible that it can give us information on parameters we can control.\n",
    "\n",
    "The same is true of the price graph, we can't necessarily control the price that people are willing to pay for the game, but that information could lead us in the right direction. \n",
    "\n",
    "Let's try for that"
   ]
  },
  {
   "cell_type": "markdown",
   "metadata": {},
   "source": [
    "We've established over-all trends in positive ratings and sales numbers, but we'd like to know how to correlate controllable choices and sales numbers. to make that harder, Sales are probably always going to depend on ratings in some way, so we're working with a *mutlivariate system*. meaning simply that the outcome depends on more than one thing. \n",
    "\n",
    "In our case, the sales numbers depend on rating, but they likely also depend on other things. For instance, it's a commonly known idea within the game development world that any game is fun with friends, therefore it's resonable to assume that even a poorly made game (one which recieves low positive ratings) might do well simply because it is multiplayer. Let's try that out by re-creating the same plots as above, but on the subset of games that are multiplayer:"
   ]
  },
  {
   "cell_type": "code",
   "execution_count": 153,
   "metadata": {},
   "outputs": [
    {
     "data": {
      "text/plain": [
       "<matplotlib.axes._subplots.AxesSubplot at 0x7f6f64f23dc0>"
      ]
     },
     "execution_count": 153,
     "metadata": {},
     "output_type": "execute_result"
    },
    {
     "data": {
      "image/png": "[encoded data removed]",
      "text/plain": [
       "<Figure size 432x288 with 1 Axes>"
      ]
     },
     "metadata": {
      "needs_background": "light"
     },
     "output_type": "display_data"
    }
   ],
   "source": [
    "#get the subset of indie games that are also Mutliplayer\n",
    "multiplayer_indie_data = indie_data[ indie_data['steamspy_tags'].str.contains('Multiplayer')]\n",
    "#plot the same relationships as above\n",
    "seaborn.scatterplot(multiplayer_indie_data['positive_rating_ratio'],multiplayer_indie_data['mean_owners'])\n"
   ]
  },
  {
   "cell_type": "code",
   "execution_count": 154,
   "metadata": {},
   "outputs": [
    {
     "data": {
      "text/plain": [
       "<matplotlib.axes._subplots.AxesSubplot at 0x7f6f64efac40>"
      ]
     },
     "execution_count": 154,
     "metadata": {},
     "output_type": "execute_result"
    },
    {
     "data": {
      "image/png": "[encoded data removed]",
      "text/plain": [
       "<Figure size 432x288 with 1 Axes>"
      ]
     },
     "metadata": {
      "needs_background": "light"
     },
     "output_type": "display_data"
    }
   ],
   "source": [
    "seaborn.scatterplot(multiplayer_indie_data['price'],multiplayer_indie_data['mean_owners'])"
   ]
  },
  {
   "cell_type": "markdown",
   "metadata": {},
   "source": [
    "So what does this tell us? \n",
    "\n",
    "Firstly, let's look at the ownership-price plot. This isn't significatly different than the plot before it. \n",
    "This isn't overly surprising, price is controlled by a lot of exernal factors beyond just how people feel about multiplayer. That said, this lack of variablility by tag is a bad sign. Let's abandon price as a parameter, and focus just on positivity_rating_ratio. \n",
    "\n",
    "the positivity_rating_ratio plot is much more positive. Compared to the original ownership/rating_ratio plot we have less skwed data. \n",
    "\n",
    "\n",
    "This means that we have a better chance of selling more copies, even if our ratings numbers are lower than we would like. This could happen for a number of reasons, but the important take-away here is that we can increase the chances that our game will sell more copies without the need to score a very high positive rating ratio. \n",
    "\n",
    "This leads me to think that features (roughly denoted in steam-api as steamspy_tags) are our best control variables for high sales numbers. After all, the goal of this tutorial was to find parameters that a developer can control during the production of a game which maximize her chances of selling enough copies to continue being an indie developer. steamspy_tags appears to have a meaningful impact on the number of copies sold at a particular positivity rating, so maybe we can learn a set of tags that maximize sales numbers. Let's try that now. \n",
    "\n",
    "\n",
    "First, it would be nice to have a set of tags that exist, up until now I've been leaning on domain knowledge to make inspired guesses about which tags might be useful. We can do better. \n"
   ]
  },
  {
   "cell_type": "code",
   "execution_count": 155,
   "metadata": {},
   "outputs": [],
   "source": [
    "#get the set of steamspy_tags in use by our steam dataset.\n",
    "\n",
    "def get_unique_tags(game_data_frame):\n",
    "    unique_tags = set()#create an empty set (a list which doesn't allow duplicate entries)\n",
    "    for tag_string in game_data_frame['steamspy_tags']:\n",
    "        tag_list = tag_string.split(\";\")#steamspy_tags are formatted like \"tag1;tag2;tag3;...\"\"\n",
    "        for tag in tag_list:\n",
    "            unique_tags.add(tag)\n",
    "            \n",
    "    return unique_tags\n"
   ]
  },
  {
   "cell_type": "markdown",
   "metadata": {},
   "source": [
    "Great! Now we have a list of all the tags that exist, the next step is to transform this information into something that a machine learning algorithm can chew on by performing 'one hot encoding'. this involves creating a set of orthogonal unit vectors for all of the tags in our list, and adding them together where appropriate to represent all of the tag combinations we have in our data set! (it sounds a lot scarier than it is, but if you want to know more about it, look [here](https://hackernoon.com/what-is-one-hot-encoding-why-and-when-do-you-have-to-use-it-e3c6186d008f) )\n",
    "\n",
    "Let's do it now: "
   ]
  },
  {
   "cell_type": "code",
   "execution_count": 156,
   "metadata": {},
   "outputs": [],
   "source": [
    "import pdb\n",
    "#generate feture vectors for each tag_set\n",
    "def one_hot_tags(game_data_frame):\n",
    "    #the first thing we need is our unique tags, \n",
    "    unique_tags = get_unique_tags(game_data_frame)\n",
    "    \n",
    "    for tag in unique_tags:\n",
    "        #for each tag, populate a row with ones if that row's steam tags contain the tag\n",
    "        game_data_frame[tag] = game_data_frame['steamspy_tags'].str.contains(tag).astype(float)\n",
    "        #then divide by the square root of the count of ones (this normalizes the encoding so our features work out)\n",
    "        game_data_frame[tag] = game_data_frame[tag]/np.sqrt(game_data_frame['steamspy_tags'].str.count(';')+1)\n",
    "\n",
    "    return game_data_frame\n",
    " "
   ]
  },
  {
   "cell_type": "code",
   "execution_count": 157,
   "metadata": {},
   "outputs": [
    {
     "data": {
      "text/html": [
       "<div>\n",
       "<style scoped>\n",
       "    .dataframe tbody tr th:only-of-type {\n",
       "        vertical-align: middle;\n",
       "    }\n",
       "\n",
       "    .dataframe tbody tr th {\n",
       "        vertical-align: top;\n",
       "    }\n",
       "\n",
       "    .dataframe thead th {\n",
       "        text-align: right;\n",
       "    }\n",
       "</style>\n",
       "<table border=\"1\" class=\"dataframe\">\n",
       "  <thead>\n",
       "    <tr style=\"text-align: right;\">\n",
       "      <th></th>\n",
       "      <th>name</th>\n",
       "      <th>publisher</th>\n",
       "      <th>categories</th>\n",
       "      <th>steamspy_tags</th>\n",
       "      <th>achievements</th>\n",
       "      <th>positive_ratings</th>\n",
       "      <th>negative_ratings</th>\n",
       "      <th>average_playtime</th>\n",
       "      <th>median_playtime</th>\n",
       "      <th>owners</th>\n",
       "      <th>...</th>\n",
       "      <th>Shoot 'Em Up</th>\n",
       "      <th>PvP</th>\n",
       "      <th>Programming</th>\n",
       "      <th>Character Customization</th>\n",
       "      <th>Fighting</th>\n",
       "      <th>e-sports</th>\n",
       "      <th>Spelling</th>\n",
       "      <th>2D Fighter</th>\n",
       "      <th>Sports</th>\n",
       "      <th>3D Platformer</th>\n",
       "    </tr>\n",
       "  </thead>\n",
       "  <tbody>\n",
       "    <tr>\n",
       "      <th>26</th>\n",
       "      <td>Rag Doll Kung Fu</td>\n",
       "      <td>Mark Healey</td>\n",
       "      <td>Single-player;Multi-player</td>\n",
       "      <td>Indie;Fighting;Multiplayer</td>\n",
       "      <td>0</td>\n",
       "      <td>40</td>\n",
       "      <td>17</td>\n",
       "      <td>0</td>\n",
       "      <td>0</td>\n",
       "      <td>20000-50000</td>\n",
       "      <td>...</td>\n",
       "      <td>0.0</td>\n",
       "      <td>0.0</td>\n",
       "      <td>0.0</td>\n",
       "      <td>0.0</td>\n",
       "      <td>0.57735</td>\n",
       "      <td>0.0</td>\n",
       "      <td>0.0</td>\n",
       "      <td>0.0</td>\n",
       "      <td>0.0</td>\n",
       "      <td>0.0</td>\n",
       "    </tr>\n",
       "    <tr>\n",
       "      <th>30</th>\n",
       "      <td>Darwinia</td>\n",
       "      <td>Introversion Software</td>\n",
       "      <td>Single-player</td>\n",
       "      <td>Strategy;Indie;RTS</td>\n",
       "      <td>0</td>\n",
       "      <td>472</td>\n",
       "      <td>158</td>\n",
       "      <td>182</td>\n",
       "      <td>273</td>\n",
       "      <td>500000-1000000</td>\n",
       "      <td>...</td>\n",
       "      <td>0.0</td>\n",
       "      <td>0.0</td>\n",
       "      <td>0.0</td>\n",
       "      <td>0.0</td>\n",
       "      <td>0.00000</td>\n",
       "      <td>0.0</td>\n",
       "      <td>0.0</td>\n",
       "      <td>0.0</td>\n",
       "      <td>0.0</td>\n",
       "      <td>0.0</td>\n",
       "    </tr>\n",
       "    <tr>\n",
       "      <th>31</th>\n",
       "      <td>Uplink</td>\n",
       "      <td>Introversion Software</td>\n",
       "      <td>Single-player</td>\n",
       "      <td>Hacking;Indie;Strategy</td>\n",
       "      <td>0</td>\n",
       "      <td>1602</td>\n",
       "      <td>152</td>\n",
       "      <td>65</td>\n",
       "      <td>77</td>\n",
       "      <td>500000-1000000</td>\n",
       "      <td>...</td>\n",
       "      <td>0.0</td>\n",
       "      <td>0.0</td>\n",
       "      <td>0.0</td>\n",
       "      <td>0.0</td>\n",
       "      <td>0.00000</td>\n",
       "      <td>0.0</td>\n",
       "      <td>0.0</td>\n",
       "      <td>0.0</td>\n",
       "      <td>0.0</td>\n",
       "      <td>0.0</td>\n",
       "    </tr>\n",
       "    <tr>\n",
       "      <th>32</th>\n",
       "      <td>DEFCON</td>\n",
       "      <td>Introversion Software</td>\n",
       "      <td>Single-player;Multi-player</td>\n",
       "      <td>Strategy;Indie;Multiplayer</td>\n",
       "      <td>22</td>\n",
       "      <td>2057</td>\n",
       "      <td>344</td>\n",
       "      <td>80</td>\n",
       "      <td>119</td>\n",
       "      <td>500000-1000000</td>\n",
       "      <td>...</td>\n",
       "      <td>0.0</td>\n",
       "      <td>0.0</td>\n",
       "      <td>0.0</td>\n",
       "      <td>0.0</td>\n",
       "      <td>0.00000</td>\n",
       "      <td>0.0</td>\n",
       "      <td>0.0</td>\n",
       "      <td>0.0</td>\n",
       "      <td>0.0</td>\n",
       "      <td>0.0</td>\n",
       "    </tr>\n",
       "    <tr>\n",
       "      <th>33</th>\n",
       "      <td>Multiwinia</td>\n",
       "      <td>Introversion Software</td>\n",
       "      <td>Single-player;Multi-player;Steam Achievements</td>\n",
       "      <td>Indie;RTS;Strategy</td>\n",
       "      <td>12</td>\n",
       "      <td>368</td>\n",
       "      <td>75</td>\n",
       "      <td>121</td>\n",
       "      <td>224</td>\n",
       "      <td>500000-1000000</td>\n",
       "      <td>...</td>\n",
       "      <td>0.0</td>\n",
       "      <td>0.0</td>\n",
       "      <td>0.0</td>\n",
       "      <td>0.0</td>\n",
       "      <td>0.00000</td>\n",
       "      <td>0.0</td>\n",
       "      <td>0.0</td>\n",
       "      <td>0.0</td>\n",
       "      <td>0.0</td>\n",
       "      <td>0.0</td>\n",
       "    </tr>\n",
       "    <tr>\n",
       "      <th>...</th>\n",
       "      <td>...</td>\n",
       "      <td>...</td>\n",
       "      <td>...</td>\n",
       "      <td>...</td>\n",
       "      <td>...</td>\n",
       "      <td>...</td>\n",
       "      <td>...</td>\n",
       "      <td>...</td>\n",
       "      <td>...</td>\n",
       "      <td>...</td>\n",
       "      <td>...</td>\n",
       "      <td>...</td>\n",
       "      <td>...</td>\n",
       "      <td>...</td>\n",
       "      <td>...</td>\n",
       "      <td>...</td>\n",
       "      <td>...</td>\n",
       "      <td>...</td>\n",
       "      <td>...</td>\n",
       "      <td>...</td>\n",
       "      <td>...</td>\n",
       "    </tr>\n",
       "    <tr>\n",
       "      <th>27070</th>\n",
       "      <td>Room of Pandora</td>\n",
       "      <td>SHEN JIAWEI</td>\n",
       "      <td>Single-player;Steam Achievements</td>\n",
       "      <td>Adventure;Indie;Casual</td>\n",
       "      <td>7</td>\n",
       "      <td>3</td>\n",
       "      <td>0</td>\n",
       "      <td>0</td>\n",
       "      <td>0</td>\n",
       "      <td>0-20000</td>\n",
       "      <td>...</td>\n",
       "      <td>0.0</td>\n",
       "      <td>0.0</td>\n",
       "      <td>0.0</td>\n",
       "      <td>0.0</td>\n",
       "      <td>0.00000</td>\n",
       "      <td>0.0</td>\n",
       "      <td>0.0</td>\n",
       "      <td>0.0</td>\n",
       "      <td>0.0</td>\n",
       "      <td>0.0</td>\n",
       "    </tr>\n",
       "    <tr>\n",
       "      <th>27071</th>\n",
       "      <td>Cyber Gun</td>\n",
       "      <td>BekkerDev Studio</td>\n",
       "      <td>Single-player</td>\n",
       "      <td>Action;Indie;Adventure</td>\n",
       "      <td>0</td>\n",
       "      <td>8</td>\n",
       "      <td>1</td>\n",
       "      <td>0</td>\n",
       "      <td>0</td>\n",
       "      <td>0-20000</td>\n",
       "      <td>...</td>\n",
       "      <td>0.0</td>\n",
       "      <td>0.0</td>\n",
       "      <td>0.0</td>\n",
       "      <td>0.0</td>\n",
       "      <td>0.00000</td>\n",
       "      <td>0.0</td>\n",
       "      <td>0.0</td>\n",
       "      <td>0.0</td>\n",
       "      <td>0.0</td>\n",
       "      <td>0.0</td>\n",
       "    </tr>\n",
       "    <tr>\n",
       "      <th>27072</th>\n",
       "      <td>Super Star Blast</td>\n",
       "      <td>EntwicklerX</td>\n",
       "      <td>Single-player;Multi-player;Co-op;Shared/Split ...</td>\n",
       "      <td>Action;Indie;Casual</td>\n",
       "      <td>24</td>\n",
       "      <td>0</td>\n",
       "      <td>1</td>\n",
       "      <td>0</td>\n",
       "      <td>0</td>\n",
       "      <td>0-20000</td>\n",
       "      <td>...</td>\n",
       "      <td>0.0</td>\n",
       "      <td>0.0</td>\n",
       "      <td>0.0</td>\n",
       "      <td>0.0</td>\n",
       "      <td>0.00000</td>\n",
       "      <td>0.0</td>\n",
       "      <td>0.0</td>\n",
       "      <td>0.0</td>\n",
       "      <td>0.0</td>\n",
       "      <td>0.0</td>\n",
       "    </tr>\n",
       "    <tr>\n",
       "      <th>27073</th>\n",
       "      <td>New Yankee 7: Deer Hunters</td>\n",
       "      <td>Alawar Entertainment</td>\n",
       "      <td>Single-player;Steam Cloud</td>\n",
       "      <td>Indie;Casual;Adventure</td>\n",
       "      <td>0</td>\n",
       "      <td>2</td>\n",
       "      <td>0</td>\n",
       "      <td>0</td>\n",
       "      <td>0</td>\n",
       "      <td>0-20000</td>\n",
       "      <td>...</td>\n",
       "      <td>0.0</td>\n",
       "      <td>0.0</td>\n",
       "      <td>0.0</td>\n",
       "      <td>0.0</td>\n",
       "      <td>0.00000</td>\n",
       "      <td>0.0</td>\n",
       "      <td>0.0</td>\n",
       "      <td>0.0</td>\n",
       "      <td>0.0</td>\n",
       "      <td>0.0</td>\n",
       "    </tr>\n",
       "    <tr>\n",
       "      <th>27074</th>\n",
       "      <td>Rune Lord</td>\n",
       "      <td>Alawar Entertainment</td>\n",
       "      <td>Single-player;Steam Cloud</td>\n",
       "      <td>Indie;Casual;Adventure</td>\n",
       "      <td>0</td>\n",
       "      <td>4</td>\n",
       "      <td>0</td>\n",
       "      <td>0</td>\n",
       "      <td>0</td>\n",
       "      <td>0-20000</td>\n",
       "      <td>...</td>\n",
       "      <td>0.0</td>\n",
       "      <td>0.0</td>\n",
       "      <td>0.0</td>\n",
       "      <td>0.0</td>\n",
       "      <td>0.00000</td>\n",
       "      <td>0.0</td>\n",
       "      <td>0.0</td>\n",
       "      <td>0.0</td>\n",
       "      <td>0.0</td>\n",
       "      <td>0.0</td>\n",
       "    </tr>\n",
       "  </tbody>\n",
       "</table>\n",
       "<p>19420 rows × 314 columns</p>\n",
       "</div>"
      ],
      "text/plain": [
       "                             name              publisher  \\\n",
       "26               Rag Doll Kung Fu            Mark Healey   \n",
       "30                       Darwinia  Introversion Software   \n",
       "31                         Uplink  Introversion Software   \n",
       "32                         DEFCON  Introversion Software   \n",
       "33                     Multiwinia  Introversion Software   \n",
       "...                           ...                    ...   \n",
       "27070             Room of Pandora            SHEN JIAWEI   \n",
       "27071                   Cyber Gun       BekkerDev Studio   \n",
       "27072            Super Star Blast            EntwicklerX   \n",
       "27073  New Yankee 7: Deer Hunters   Alawar Entertainment   \n",
       "27074                   Rune Lord   Alawar Entertainment   \n",
       "\n",
       "                                              categories  \\\n",
       "26                            Single-player;Multi-player   \n",
       "30                                         Single-player   \n",
       "31                                         Single-player   \n",
       "32                            Single-player;Multi-player   \n",
       "33         Single-player;Multi-player;Steam Achievements   \n",
       "...                                                  ...   \n",
       "27070                   Single-player;Steam Achievements   \n",
       "27071                                      Single-player   \n",
       "27072  Single-player;Multi-player;Co-op;Shared/Split ...   \n",
       "27073                          Single-player;Steam Cloud   \n",
       "27074                          Single-player;Steam Cloud   \n",
       "\n",
       "                    steamspy_tags  achievements  positive_ratings  \\\n",
       "26     Indie;Fighting;Multiplayer             0                40   \n",
       "30             Strategy;Indie;RTS             0               472   \n",
       "31         Hacking;Indie;Strategy             0              1602   \n",
       "32     Strategy;Indie;Multiplayer            22              2057   \n",
       "33             Indie;RTS;Strategy            12               368   \n",
       "...                           ...           ...               ...   \n",
       "27070      Adventure;Indie;Casual             7                 3   \n",
       "27071      Action;Indie;Adventure             0                 8   \n",
       "27072         Action;Indie;Casual            24                 0   \n",
       "27073      Indie;Casual;Adventure             0                 2   \n",
       "27074      Indie;Casual;Adventure             0                 4   \n",
       "\n",
       "       negative_ratings  average_playtime  median_playtime          owners  \\\n",
       "26                   17                 0                0     20000-50000   \n",
       "30                  158               182              273  500000-1000000   \n",
       "31                  152                65               77  500000-1000000   \n",
       "32                  344                80              119  500000-1000000   \n",
       "33                   75               121              224  500000-1000000   \n",
       "...                 ...               ...              ...             ...   \n",
       "27070                 0                 0                0         0-20000   \n",
       "27071                 1                 0                0         0-20000   \n",
       "27072                 1                 0                0         0-20000   \n",
       "27073                 0                 0                0         0-20000   \n",
       "27074                 0                 0                0         0-20000   \n",
       "\n",
       "       ...  Shoot 'Em Up  PvP  Programming  Character Customization  Fighting  \\\n",
       "26     ...           0.0  0.0          0.0                      0.0   0.57735   \n",
       "30     ...           0.0  0.0          0.0                      0.0   0.00000   \n",
       "31     ...           0.0  0.0          0.0                      0.0   0.00000   \n",
       "32     ...           0.0  0.0          0.0                      0.0   0.00000   \n",
       "33     ...           0.0  0.0          0.0                      0.0   0.00000   \n",
       "...    ...           ...  ...          ...                      ...       ...   \n",
       "27070  ...           0.0  0.0          0.0                      0.0   0.00000   \n",
       "27071  ...           0.0  0.0          0.0                      0.0   0.00000   \n",
       "27072  ...           0.0  0.0          0.0                      0.0   0.00000   \n",
       "27073  ...           0.0  0.0          0.0                      0.0   0.00000   \n",
       "27074  ...           0.0  0.0          0.0                      0.0   0.00000   \n",
       "\n",
       "       e-sports  Spelling  2D Fighter  Sports  3D Platformer  \n",
       "26          0.0       0.0         0.0     0.0            0.0  \n",
       "30          0.0       0.0         0.0     0.0            0.0  \n",
       "31          0.0       0.0         0.0     0.0            0.0  \n",
       "32          0.0       0.0         0.0     0.0            0.0  \n",
       "33          0.0       0.0         0.0     0.0            0.0  \n",
       "...         ...       ...         ...     ...            ...  \n",
       "27070       0.0       0.0         0.0     0.0            0.0  \n",
       "27071       0.0       0.0         0.0     0.0            0.0  \n",
       "27072       0.0       0.0         0.0     0.0            0.0  \n",
       "27073       0.0       0.0         0.0     0.0            0.0  \n",
       "27074       0.0       0.0         0.0     0.0            0.0  \n",
       "\n",
       "[19420 rows x 314 columns]"
      ]
     },
     "execution_count": 157,
     "metadata": {},
     "output_type": "execute_result"
    }
   ],
   "source": [
    "encoded_indie_data = one_hot_tags(indie_data)#create one-hot-encoded data\n",
    "encoded_indie_data"
   ]
  },
  {
   "cell_type": "markdown",
   "metadata": {},
   "source": [
    "All we did is add columns for each unique steam_spy_tag. Then, for each row, if the row has that tag in it, the value for that (tag,row) = 1, otherwise that value is zero. \n",
    "Then we divided by the square root of the number of tags in that row, which is called normalization. \n",
    "Normalization prevents rows with a lot of tags from being numerically larger than a row with fewer, it keeps things fair. \n",
    "\n",
    "With our data encoded, we can start to think about what sorts of models we might have luck with. \n",
    "\n",
    "## Training our first model\n",
    "\n",
    "Let's start with a linear regression model, which will return something like this: \n",
    "\n",
    "mean_owners/positivity_rating_ratio = s1(Multiplayer)+s2(RPG)+s3(Sports).... for all the tags. \n",
    "\n",
    "s1, s2 and so on are called coefficients, they are multiplied by the variables Multiplayer, RPG, and so on, which are either 0, or 1 as we have defined them, and added up to give us an estimated ownership/positivity_ratio fraction. \n",
    "\n",
    "The regression will find coefficients for each of the tags we put in, larger coefficients mean that the associated tag contributes to a higher mean_owners/positivity_ratio, while smaller coefficients contribute less. \n",
    "\n",
    "We're going to have about 300 coeffiecients, so we should have quite the list. \n",
    "\n",
    "Scikit learn has a very powerful LinearRegression model which can figure out all 300 of those coefficients, let's use it here: "
   ]
  },
  {
   "cell_type": "code",
   "execution_count": 158,
   "metadata": {},
   "outputs": [
    {
     "data": {
      "text/plain": [
       "Motorbike                  8.209359e+22\n",
       "Snowboarding               1.078891e+22\n",
       "Character Customization    4.333967e+21\n",
       "Basketball                 7.409416e+11\n",
       "Football                   2.245841e+11\n",
       "                               ...     \n",
       "VR Only                   -1.322312e+11\n",
       "Rome                      -1.397854e+11\n",
       "Real Time Tactics         -4.333967e+21\n",
       "Snow                      -1.078891e+22\n",
       "Motocross                 -8.209359e+22\n",
       "Length: 300, dtype: float64"
      ]
     },
     "execution_count": 158,
     "metadata": {},
     "output_type": "execute_result"
    }
   ],
   "source": [
    "\n",
    "from sklearn.linear_model import LinearRegression\n",
    "\n",
    "unique_tags = get_unique_tags(indie_data)#generate the unique tags using our function above\n",
    "\n",
    "X  = encoded_indie_data[unique_tags]#use the encoded feature vectors for x inputs\n",
    "\n",
    "#Divide the mean_owners column by the positivity_rating_ratio column, this gives us the slope of our plots\n",
    "#of mean_owners vs positivity_ratio above. Maximizing this number gives us more sales per positive rating\n",
    "Y = encoded_indie_data['mean_owners']/(encoded_indie_data['positive_rating_ratio']+.00000001)\n",
    "\n",
    "#perform linear regression\n",
    "model = LinearRegression().fit(X,Y)\n",
    "\n",
    "#build a list of tags to tag weights\n",
    "importance_dict  = {}\n",
    "for idx,tag in enumerate(unique_tags): \n",
    "    importance_dict[tag] = model.coef_[idx]\n",
    "    \n",
    "#convert the dict to a series for easier use, sort the series in descending order\n",
    "pandas.Series(importance_dict).sort_values(ascending = False)"
   ]
  },
  {
   "cell_type": "markdown",
   "metadata": {},
   "source": [
    "Oh boy, those are some very, very big numbers. Unfortunately, Linear regressions have an issue when you try to fit a large number of parameters where they let their coefficients get huge. This can lead to bad models, because the importance of features can get washed out by the huge numbers. \n",
    "\n",
    "This is an important lesson in data science, not every model is good at everything, knowing how your models work allows you to make informed decisions about when a model is working, or when it may not be. \n",
    "\n",
    "## Training our second model\n",
    "\n",
    "a Linear regression is what we want, though, because the coefficients offer a natural ranking system for features. \n",
    "Fortnately, there is a modified linear regression that exists, which forces the model to keep the coefficients small! it's called a Ridge regression, and scikit learn has it too:\n",
    "\n",
    "Let's repeat our previous process above, with a Ridge regression instead. "
   ]
  },
  {
   "cell_type": "code",
   "execution_count": 159,
   "metadata": {},
   "outputs": [],
   "source": [
    "from sklearn.linear_model import Ridge #ridge regression, regularized linear regression\n",
    "linear_model = Ridge(alpha = 10)#alpha controls how firmly the regularization is applied, let's try 10, \n",
    "linear_model.fit(X,Y)\n",
    "\n",
    "\n",
    "#build a name-value list of the steam tag - coeficient in the regression\n",
    "linear_importance_dict  = {}\n",
    "for idx,tag in enumerate(unique_tags): \n",
    "    linear_importance_dict[tag] = linear_model.coef_[idx]\n",
    "    \n",
    "#convert to a series with series dictionary constructor\n",
    "linear_importance_list = pandas.Series(linear_importance_dict).sort_values(ascending = False)\n",
    "#return sorted output for ranking\n",
    "lin_sales_from_pos_rev_series = pandas.Series(linear_importance_list).sort_values(ascending = False)\n"
   ]
  },
  {
   "cell_type": "markdown",
   "metadata": {},
   "source": [
    "Okay this looks a lot more resonable. \n",
    "Let's interpret these results and make some policy decisions! \n",
    "We fit a linear regression, meaning that each coefficient there is a slope! The units are 'sales/positive ratings/tag' obviously since we have binary tags (either zero or one) the interpretation in english is a bit silly, but the punch line is this: \n",
    "\n",
    "positive numbers, especially large positive numbers are good. Small numbers don't matter, and negative numbers, especially large negative numbers, are bad. \n",
    "\n",
    "The idea with this model is that large numbers of these coefficients mean that the presence of those tags increase the number of sales you get per positive rating, i.e a game with a really high slope in that category could get only 50% positive reviews, and outsell somethign with 100% positive reviews. \n",
    "\n",
    "That's the window we set out to explore!\n",
    "\n",
    "With the data in front of us, it looks like the best thing you can possibly do is make a sports game, followed by pirate games, followed by the all-time beloved metroid-vania games. if you're not sure what I mean when I say all-time beloved, read here: \n",
    "\n",
    "https://www.gamasutra.com/view/news/236410/The_undying_allure_of_the_Metroidvania.php"
   ]
  },
  {
   "cell_type": "markdown",
   "metadata": {},
   "source": [
    "## Looking at new perspectives\n",
    "We now have one metric that we can use, but it would be nice to have more. Plus, we've only scratched the surface of what we can do with machine learning! \n",
    "\n",
    "Above, we determined the set of coefficients which strongly correlated with high sales per positive review, this is a good tool, but we can do a lot more. \n",
    "\n",
    "We did the above with a regression, we essentially fit a line, and then looked at what parameters made up that line, and use those parameters to infer something about the tags. \n",
    "\n",
    "Next, let's to try to predict if a game will sell above a certain threshold of copies, based on the other data in that we have about it. \n",
    "\n",
    "This is called a classification, and roughly what I want to do is classify a game as 'successful' or 'unsucessful' based on the data we already have. \n",
    "\n",
    "First, let's define 'successful' in terms of the data we have. \n"
   ]
  },
  {
   "cell_type": "markdown",
   "metadata": {},
   "source": [
    "Let's do some more exploratory analysis for this new goal: \n",
    "\n",
    "can we classify based on number of owners? "
   ]
  },
  {
   "cell_type": "code",
   "execution_count": 160,
   "metadata": {},
   "outputs": [
    {
     "data": {
      "text/plain": [
       "count    1.942000e+04\n",
       "mean     7.505716e+04\n",
       "std      4.626652e+05\n",
       "min      1.000000e+04\n",
       "25%      1.000000e+04\n",
       "50%      1.000000e+04\n",
       "75%      3.500000e+04\n",
       "max      3.500000e+07\n",
       "Name: mean_owners, dtype: float64"
      ]
     },
     "execution_count": 160,
     "metadata": {},
     "output_type": "execute_result"
    }
   ],
   "source": [
    "indie_data['mean_owners'].describe()#get a good idea of how the data is laid out. "
   ]
  },
  {
   "cell_type": "code",
   "execution_count": 161,
   "metadata": {},
   "outputs": [
    {
     "data": {
      "text/plain": [
       "array([1.0e+04, 3.5e+04, 7.5e+04, 1.5e+05, 3.5e+05, 7.5e+05, 1.5e+06,\n",
       "       3.5e+06, 7.5e+06, 1.5e+07, 3.5e+07])"
      ]
     },
     "execution_count": 161,
     "metadata": {},
     "output_type": "execute_result"
    }
   ],
   "source": [
    "np.sort(indie_data['mean_owners'].unique())#list the mean_owners classes in order"
   ]
  },
  {
   "cell_type": "markdown",
   "metadata": {},
   "source": [
    "Looking at the data here, the distribution is highly skewed towards the bottom. The 25% and 50% medians (lower fourth and true median) (see information on [descriptive statistics](https://en.wikipedia.org/wiki/Descriptive_statistics))\n",
    "are equal, and it's not until the upper fourth that we see the median indie game reach even the second sales level. \n",
    "This means that any indie game that is above the first sales level is very unusual despite being below the mean. \n",
    "\n",
    "Therfore, I will classify any game which exceeds the first sales class as successful: "
   ]
  },
  {
   "cell_type": "code",
   "execution_count": 162,
   "metadata": {},
   "outputs": [],
   "source": [
    "indie_data['successful'] = (indie_data['mean_owners']>1.0e4).astype(int)#1 if the game is sucessful, zero otherwise\n"
   ]
  },
  {
   "cell_type": "markdown",
   "metadata": {},
   "source": [
    "so, 5276 games out of the 19000 inide games we have are successful. Let's see if we can make a model that knows why. \n",
    "\n",
    "## Logistic Regression:\n",
    " Logistic regression though named the same, asks a very different question to a linear regression. \n",
    " a Linear regression asks 'what are the slopes of these variables if they form a line?' where logistic regression asks 'what is the probability that these values are in a category?' \n",
    "    This makes it useful for the question of 'given these steam tags, what is the probability that my game is in the sucessful category?' which is the question we hope to answer. \n",
    "    \n"
   ]
  },
  {
   "cell_type": "code",
   "execution_count": 163,
   "metadata": {},
   "outputs": [
    {
     "data": {
      "text/plain": [
       "0.790010298661174"
      ]
     },
     "execution_count": 163,
     "metadata": {},
     "output_type": "execute_result"
    }
   ],
   "source": [
    "from sklearn.linear_model import LogisticRegression\n",
    "X = indie_data[unique_tags]\n",
    "Y = indie_data['successful']\n",
    "log_success_model = LogisticRegression().fit(X,Y)\n",
    "\n",
    "log_success_model.score(X,Y)#with a model score of .8 we have a model that on average the model guesses right 80% of the time.\n"
   ]
  },
  {
   "cell_type": "markdown",
   "metadata": {},
   "source": [
    "There we have it, A classifier which accepts a set of unique_tags, and predicts if the game will be sucessful, or unsuccessful. \n",
    "\n",
    "Let's see what the coefficients look like:"
   ]
  },
  {
   "cell_type": "code",
   "execution_count": 164,
   "metadata": {},
   "outputs": [],
   "source": [
    "log_success_importance_dict = {}\n",
    "for idx,tag in enumerate(unique_tags):\n",
    "    log_success_importance_dict[tag] = log_model.coef_[0][idx]\n",
    "\n",
    "log_success_series = pandas.Series(log_importance_dict).sort_values(ascending = False)"
   ]
  },
  {
   "cell_type": "markdown",
   "metadata": {},
   "source": [
    "## Assessment of logistic regression on success: \n",
    "We've fit a model on the same parameters, but looking at a different outcome. We defined success as those which sell much better than the typical indie game. From that classification, we have the most highly weighted and most negatively weighted games in terms of success. \n",
    "    \n",
    "From domain knowledge, this again looks resonable. open world, free to play, multiplayer. All very common phrases when talking about popular games. This actually doesn't line up with our linear regressor, which isn't horribly surprising. As stated, we're measuring different things. \n",
    "    \n",
    "  Let's iterate through the data science pipeline one more time, and find one more ranking to guide us. \n",
    "  \n",
    "  This time, let's try to predict good reviews. Also by classification. \n",
    "  \n",
    "  From our charts during our original exploratory data analysis (EDA if you're cool) we saw that high sales games were cluseterd towards the top of the high reviews range. Let's classify a well reviewed game as anything with higher than .8 positive review ratio"
   ]
  },
  {
   "cell_type": "code",
   "execution_count": 165,
   "metadata": {},
   "outputs": [
    {
     "data": {
      "text/plain": [
       "8545"
      ]
     },
     "execution_count": 165,
     "metadata": {},
     "output_type": "execute_result"
    }
   ],
   "source": [
    "indie_data['well_reviewed'] = (indie_data['positive_rating_ratio']>.8).astype(int)\n",
    "indie_data['well_reviewed'].sum()"
   ]
  },
  {
   "cell_type": "markdown",
   "metadata": {},
   "source": [
    "so about 40% of games are well reviewed by our metric, let's see how we can use this, and try out one more type of classifier while we're at it. \n",
    "\n",
    "## Decision Trees:\n",
    "Decision trees are very different from either a linear or logistic regression. Rather than try to fit a function, a tree *approximates a boolean function*. in this case our boolean function is: \"will my game be well reviwied based on these steam tags?\" This is a question that the decision tree answers by splitting itself on the various attributes we give it. Which are, Multiplayer or not, Sports or not, ect. Given these parameters the tree will structure itself such that it's good at answering that question, and then we can get a list of 'importances' from it. Basically 'what were the most important factors in your decision' That knowledge will be roughtly 1-1 comparison with our linear-models, so we can see things apples to apples. \n",
    "    "
   ]
  },
  {
   "cell_type": "code",
   "execution_count": 166,
   "metadata": {},
   "outputs": [],
   "source": [
    "from sklearn.tree import DecisionTreeClassifier\n",
    "X = indie_data[unique_tags]\n",
    "Y = indie_data['well_reviewed']\n",
    "tree_reviews_model = DecisionTreeClassifier().fit(X,Y)\n",
    "\n",
    "tree_reviews_importances = tree_reviews_model.feature_importances_"
   ]
  },
  {
   "cell_type": "code",
   "execution_count": 167,
   "metadata": {},
   "outputs": [
    {
     "data": {
      "text/plain": [
       "Indie                   0.058685\n",
       "Puzzle                  0.054826\n",
       "Action                  0.034812\n",
       "Simulation              0.034100\n",
       "Early Access            0.029136\n",
       "                          ...   \n",
       "Logic                   0.000000\n",
       "Quick-Time Events       0.000000\n",
       "Real-Time with Pause    0.000000\n",
       "Hunting                 0.000000\n",
       "Snowboarding            0.000000\n",
       "Length: 300, dtype: float64"
      ]
     },
     "execution_count": 167,
     "metadata": {},
     "output_type": "execute_result"
    }
   ],
   "source": [
    "tree_reviews_importance_dict = {}\n",
    "for idx, tag in enumerate(unique_tags):\n",
    "    tree_reviews_importance_dict[tag] = tree_reviews_importances[idx]\n",
    "\n",
    "\n",
    "tree_reviews_series = pandas.Series(tree_reviews_importance_dict)\n",
    "\n",
    "tree_reviews_series.sort_values(ascending = False)"
   ]
  },
  {
   "cell_type": "markdown",
   "metadata": {},
   "source": [
    "## Analysis of Decision tree fit on good reviews:\n",
    "The decision tree produced some really interesting results. However, we need to take care here when assessing the tree. The tree doesn't have the the same concept of positive and negative as the regressions do, infact, the only thing the tree cares about is 'which feature lets me eliminate the majority of the rest of the chocies I have' Which is equivalent to saying 'which of these features gives me the most information about the question' \n",
    "    see : [how decision trees makes decisions](https://towardsdatascience.com/entropy-how-decision-trees-make-decisions-2946b9c18c8)\n",
    "    \n",
    "This means that we can't just take the top five values as the best deciding factors, instead we understand that a high value means that the feature is important, but it could be a good thing or a bad thing in terms of your games' reviews. Infact,  it's more likely a bad thing because there are many more negative outcome leaves than positive ones. (because there are so many more poorly reviewed games than positive)\n",
    "\n",
    "\n",
    "## Making alternate models for additional insight\n",
    "As a bonus, let's also compute the logistic regression of well_reviewed for comparison, and the decision_tree classification for successful. Doing this lets us see the data from another angle, and we already have the data curated and clean. We might as well"
   ]
  },
  {
   "cell_type": "code",
   "execution_count": 168,
   "metadata": {},
   "outputs": [],
   "source": [
    "\n",
    "#repeat the well reviewed classification with a logistic regression model\n",
    "X = sklearn.preprocessing.scale(indie_data[unique_tags])\n",
    "Y = indie_data['well_reviewed']\n",
    "log_reviews_model = LogisticRegression().fit(X,Y)\n",
    "#repeat the successful classification with a decision tree model\n",
    "X = indie_data[unique_tags]\n",
    "Y = indie_data['successful']\n",
    "tree_success_model = DecisionTreeClassifier().fit(X,Y)\n",
    "\n",
    "#populate the importance - tag dicts\n",
    "log_reviews_dict = {}\n",
    "tree_success_dict = {}\n",
    "for idx, tag in enumerate(unique_tags):\n",
    "    tree_success_dict[tag] = tree_success_model.feature_importances_[idx]\n",
    "    log_reviews_dict[tag] = log_reviews_model.coef_[0][idx]\n",
    "#convert the dicts to series \n",
    "log_reviews_series = pandas.Series(log_reviews_dict)\n",
    "tree_success_series = pandas.Series(tree_success_dict) "
   ]
  },
  {
   "cell_type": "code",
   "execution_count": 169,
   "metadata": {},
   "outputs": [
    {
     "data": {
      "text/plain": [
       "Psychological     0.220791\n",
       "Puzzle            0.209085\n",
       "Sokoban           0.157883\n",
       "Dark Humor        0.143098\n",
       "Visual Novel      0.139809\n",
       "Mini Golf         0.136990\n",
       "Baseball          0.134243\n",
       "Pixel Graphics    0.114711\n",
       "Replay Value      0.114144\n",
       "Vampire           0.113597\n",
       "dtype: float64"
      ]
     },
     "execution_count": 169,
     "metadata": {},
     "output_type": "execute_result"
    }
   ],
   "source": [
    "log_reviews_series.sort_values(ascending = False)[0:10]"
   ]
  },
  {
   "cell_type": "code",
   "execution_count": 170,
   "metadata": {},
   "outputs": [
    {
     "data": {
      "text/plain": [
       "Free to Play            0.140894\n",
       "Indie                   0.120906\n",
       "Early Access            0.075832\n",
       "Casual                  0.058315\n",
       "Action                  0.057827\n",
       "                          ...   \n",
       "Agriculture             0.000000\n",
       "Snow                    0.000000\n",
       "Animation & Modeling    0.000000\n",
       "Utilities               0.000000\n",
       "Old School              0.000000\n",
       "Length: 300, dtype: float64"
      ]
     },
     "execution_count": 170,
     "metadata": {},
     "output_type": "execute_result"
    }
   ],
   "source": [
    "tree_success_series.sort_values(ascending = False)"
   ]
  },
  {
   "cell_type": "markdown",
   "metadata": {},
   "source": [
    "## Recap\n",
    "\n",
    "First, we fit a linear regression model which gives us the sales/ratio_of_positive_reviews ratio per tag set\n",
    "Then, we did a follow up analysis where we ultimately fit a logistic regression and decision tree for the two \n",
    "\n",
    "following classification problems: \n",
    "will my game be in a higher sales group than the first\n",
    "\n",
    "will my game be reviwed higher than 80% positive. \n",
    "\n",
    "This gave us a total of five models.  \n",
    "\n",
    "lin_sales_from_pos_reviews\n",
    "\n",
    "log_success\n",
    "tree_success\n",
    "\n",
    "log_reviews\n",
    "tree_reviews\n",
    "\n",
    "\n",
    "With these models, we now have a set of tests we can run per tag we as a developer choose to use.\n",
    "## ANALYSIS\n",
    "Okay, so how can we use these models we've created? Well, there are probably lots of ways, but the most obvious is to see which tags are consistently positive, or consistently negative accross all or a majority vote of our models. \n",
    "\n",
    "Lets try this with the tag we started with, Multiplayer. "
   ]
  },
  {
   "cell_type": "code",
   "execution_count": 178,
   "metadata": {},
   "outputs": [
    {
     "name": "stdout",
     "output_type": "stream",
     "text": [
      "logsitic regression for successful : 0.778727\n",
      "logistic regression for well reviewed : 0.231740\n",
      "tree signifiance for success : 0.049809\n",
      "tree significance for reviews: 0.192506\n",
      "linear sales per positive review: -0.318754\n"
     ]
    }
   ],
   "source": [
    "print(\"logsitic regression for successful : %3f\" %(log_success_series['Multiplayer']/np.max(log_success_series)))\n",
    "print(\"logistic regression for well reviewed : %3f\" %(log_reviews_series['Multiplayer']/np.max(log_reviews_series)))\n",
    "print(\"tree signifiance for success : %3f\" % (tree_success_series['Multiplayer']/np.max(tree_success_series)))\n",
    "print(\"tree significance for reviews: %3f\" %(tree_reviews_series['Multiplayer']/np.max(tree_reviews_series)))\n",
    "print(\"linear sales per positive review: %3f\"%(lin_sales_from_pos_rev_series['Multiplayer']/np.max(lin_sales_from_pos_rev_series)))"
   ]
  },
  {
   "cell_type": "markdown",
   "metadata": {},
   "source": [
    "This certainly adds more dimension to our decision. During my analysis I decided to normalize the ratings, that way everything is on the same scale. \n",
    "\n",
    "What we find then, is that according to the logistic regressions, muliplayer contributes significatly to the probability of selling a lot, but not highly to the probability of being well reviwed. According to the trees Multiplayer isn't much of a deciding factor for either success or reviews, and in the case of the liner regression it is a moderate reducer of the slope of sales per positive review. \n",
    "\n",
    "More than anything, these results indicate that the models and analysis that I've developed over the course of this tutorial need iteration and refinement. However, the logistic regressions and the linear model agree. The idea would be that a completely flat line would occur when Multiplayer completely removes the dependence on being well reviewed. A lower slope, combined with a low impact on the probability of being successful lend creedence to the idea that having multiplayer lessens the impact of the reviews curve on the sales of the game, as we initially guessed. "
   ]
  },
  {
   "cell_type": "markdown",
   "metadata": {},
   "source": [
    "\n",
    "### Conclusions\n",
    "We set out to determine a set of knobs that the developer could tweak on her game to maximize her chances of being successful, and to learn about data science along the way. To do that we created several models from the data, each of which are functions of the steamspy tags which roughly correspond to the features of her game. These models are interesting, and certainly warrant testing, and further exploration (perhaps one could even make a machine learning model that learned on the output of these models!). More importantly, though, we explored how we can start to quantify what makes a game successful, learned new tools for predicting outcomes on those quantities, and methods for evaluating the policies that we come up with after those outcomes have been predicted. We didn't find the silver bullet to making a super high-selling steam game, but we do now have a lot more information on what works, and what doesn't, and with that we can inform the many boarderline decisions that developers have to make on their journey to indie success. \n",
    "\n",
    "Thanks for reading! "
   ]
  },
  {
   "cell_type": "code",
   "execution_count": null,
   "metadata": {},
   "outputs": [],
   "source": []
  },
  {
   "cell_type": "markdown",
   "metadata": {},
   "source": []
  }
 ],
 "metadata": {
  "kernelspec": {
   "display_name": "Python 3",
   "language": "python",
   "name": "python3"
  },
  "language_info": {
   "codemirror_mode": {
    "name": "ipython",
    "version": 3
   },
   "file_extension": ".py",
   "mimetype": "text/x-python",
   "name": "python",
   "nbconvert_exporter": "python",
   "pygments_lexer": "ipython3",
   "version": "3.8.3"
  }
 },
 "nbformat": 4,
 "nbformat_minor": 4
}
